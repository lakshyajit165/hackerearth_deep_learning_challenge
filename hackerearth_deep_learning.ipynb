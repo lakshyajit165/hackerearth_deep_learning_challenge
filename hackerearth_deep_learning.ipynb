{
 "cells": [
  {
   "cell_type": "code",
   "execution_count": 15,
   "metadata": {},
   "outputs": [],
   "source": [
    "import csv\n",
    "import os\n",
    "import shutil\n",
    "\n",
    "dance_dict  = {}\n",
    "\n",
    "with open('train.csv', 'r') as file:\n",
    "    reader = csv.reader(file)\n",
    "    for row in reader:\n",
    "        \n",
    "        #bypassing the headers\n",
    "        if '.jpg' not in row[0]:\n",
    "            pass\n",
    "        else:\n",
    "            try:\n",
    "                dance_dict[row[1]].append(row[0])\n",
    "            except:\n",
    "                dance_dict[row[1]] = [row[0]]"
   ]
  },
  {
   "cell_type": "code",
   "execution_count": 18,
   "metadata": {},
   "outputs": [],
   "source": [
    "#segregating the files acc. to dance forms\n",
    "for k in dance_dict.keys():\n",
    "    for v in dance_dict[k]:\n",
    "        shutil.copy2('./train/'+v, './dance_forms/' + k + '/' + v) \n",
    "    "
   ]
  },
  {
   "cell_type": "code",
   "execution_count": null,
   "metadata": {},
   "outputs": [],
   "source": []
  }
 ],
 "metadata": {
  "kernelspec": {
   "display_name": "Python 3",
   "language": "python",
   "name": "python3"
  },
  "language_info": {
   "codemirror_mode": {
    "name": "ipython",
    "version": 3
   },
   "file_extension": ".py",
   "mimetype": "text/x-python",
   "name": "python",
   "nbconvert_exporter": "python",
   "pygments_lexer": "ipython3",
   "version": "3.7.3"
  }
 },
 "nbformat": 4,
 "nbformat_minor": 2
}
