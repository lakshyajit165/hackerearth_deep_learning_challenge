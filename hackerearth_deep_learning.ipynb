{
 "cells": [
  {
   "cell_type": "code",
   "execution_count": 15,
   "metadata": {},
   "outputs": [],
   "source": [
    "import csv\n",
    "import os\n",
    "import shutil\n",
    "\n",
    "dance_dict  = {}\n",
    "\n",
    "with open('train.csv', 'r') as file:\n",
    "    reader = csv.reader(file)\n",
    "    for row in reader:\n",
    "        \n",
    "        #bypassing the headers\n",
    "        if '.jpg' not in row[0]:\n",
    "            pass\n",
    "        else:\n",
    "            try:\n",
    "                dance_dict[row[1]].append(row[0])\n",
    "            except:\n",
    "                dance_dict[row[1]] = [row[0]]"
   ]
  },
  {
   "cell_type": "code",
   "execution_count": 18,
   "metadata": {},
   "outputs": [],
   "source": [
    "#segregating the files acc. to dance forms\n",
    "for k in dance_dict.keys():\n",
    "    for v in dance_dict[k]:\n",
    "        shutil.copy2('./train/'+v, './dance_forms/' + k + '/' + v) \n",
    "    "
   ]
  },
  {
   "cell_type": "code",
   "execution_count": 2,
   "metadata": {},
   "outputs": [
    {
     "name": "stdout",
     "output_type": "stream",
     "text": [
      "Collecting ximilar-client\n",
      "  Downloading https://files.pythonhosted.org/packages/c8/1a/b76dad19cf7113082d7397a9a1a102b0b197453d50fed1de4d5457bba54b/ximilar_client-1.10.13-py3-none-any.whl\n",
      "Collecting opencv-contrib-python-headless==4.1.2.30 (from ximilar-client)\n",
      "\u001b[?25l  Downloading https://files.pythonhosted.org/packages/a9/f9/3d0ffea85cfcc18225ee37a66f5213da2f1d08a2961786712b00babe0d9c/opencv_contrib_python_headless-4.1.2.30-cp37-cp37m-manylinux1_x86_64.whl (27.8MB)\n",
      "\u001b[K     |████████████████████████████████| 27.8MB 495kB/s eta 0:00:01     |████████████████████████▏       | 21.0MB 88kB/s eta 0:01:18     |████████████████████████▌       | 21.3MB 394kB/s eta 0:00:17\n",
      "\u001b[?25hCollecting tqdm==4.31.1 (from ximilar-client)\n",
      "\u001b[?25l  Downloading https://files.pythonhosted.org/packages/6c/4b/c38b5144cf167c4f52288517436ccafefe9dc01b8d1c190e18a6b154cd4a/tqdm-4.31.1-py2.py3-none-any.whl (48kB)\n",
      "\u001b[K     |████████████████████████████████| 51kB 2.0MB/s eta 0:00:01\n",
      "\u001b[?25hCollecting pytest>=3.0.3 (from ximilar-client)\n",
      "\u001b[?25l  Downloading https://files.pythonhosted.org/packages/9f/f3/0a83558da436a081344aa6c8b85ea5b5f05071214106036ce341b7769b0b/pytest-5.4.3-py3-none-any.whl (248kB)\n",
      "\u001b[K     |████████████████████████████████| 256kB 1.3MB/s eta 0:00:01\n",
      "\u001b[?25hCollecting requests==2.21.0 (from ximilar-client)\n",
      "\u001b[?25l  Downloading https://files.pythonhosted.org/packages/7d/e3/20f3d364d6c8e5d2353c72a67778eb189176f08e873c9900e10c0287b84b/requests-2.21.0-py2.py3-none-any.whl (57kB)\n",
      "\u001b[K     |████████████████████████████████| 61kB 2.3MB/s eta 0:00:011     |████████████████████████████▎   | 51kB 2.1MB/s eta 0:00:01\n",
      "\u001b[?25hCollecting numpy>=1.14.5 (from opencv-contrib-python-headless==4.1.2.30->ximilar-client)\n",
      "\u001b[?25l  Downloading https://files.pythonhosted.org/packages/a8/31/e2c3eda7afe7dab08e1f24767b8e38ff2f30dc82bd74aa3a5324c550366a/numpy-1.19.0-cp37-cp37m-manylinux2010_x86_64.whl (14.6MB)\n",
      "\u001b[K     |████████████████████████████████| 14.6MB 1.1MB/s eta 0:00:01    |██████████████▎                 | 6.5MB 671kB/s eta 0:00:13     |███████████████▏                | 6.9MB 671kB/s eta 0:00:12     |██████████████████████          | 10.0MB 61kB/s eta 0:01:15\n",
      "\u001b[?25hCollecting pluggy<1.0,>=0.12 (from pytest>=3.0.3->ximilar-client)\n",
      "  Downloading https://files.pythonhosted.org/packages/a0/28/85c7aa31b80d150b772fbe4a229487bc6644da9ccb7e427dd8cc60cb8a62/pluggy-0.13.1-py2.py3-none-any.whl\n",
      "Collecting py>=1.5.0 (from pytest>=3.0.3->ximilar-client)\n",
      "\u001b[?25l  Downloading https://files.pythonhosted.org/packages/68/0f/41a43535b52a81e4f29e420a151032d26f08b62206840c48d14b70e53376/py-1.9.0-py2.py3-none-any.whl (99kB)\n",
      "\u001b[K     |█████████████████████████████▉  | 92kB 402kB/s eta 0:00:01     |████████████████████████████████| 102kB 442kB/s \n",
      "\u001b[?25hRequirement already satisfied: wcwidth in /snap/jupyter/6/lib/python3.7/site-packages (from pytest>=3.0.3->ximilar-client) (0.1.7)\n",
      "Collecting more-itertools>=4.0.0 (from pytest>=3.0.3->ximilar-client)\n",
      "\u001b[?25l  Downloading https://files.pythonhosted.org/packages/ef/9b/6c35ec5483710492e21252465160ee508170159f7e0e2d6cd769022f52f6/more_itertools-8.4.0-py3-none-any.whl (43kB)\n",
      "\u001b[K     |████████████████████████████████| 51kB 487kB/s eta 0:00:01\n",
      "\u001b[?25hRequirement already satisfied: attrs>=17.4.0 in /snap/jupyter/6/lib/python3.7/site-packages (from pytest>=3.0.3->ximilar-client) (19.1.0)\n",
      "Collecting importlib-metadata>=0.12; python_version < \"3.8\" (from pytest>=3.0.3->ximilar-client)\n",
      "  Downloading https://files.pythonhosted.org/packages/8e/58/cdea07eb51fc2b906db0968a94700866fc46249bdc75cac23f9d13168929/importlib_metadata-1.7.0-py2.py3-none-any.whl\n",
      "Collecting packaging (from pytest>=3.0.3->ximilar-client)\n",
      "  Downloading https://files.pythonhosted.org/packages/46/19/c5ab91b1b05cfe63cccd5cfc971db9214c6dd6ced54e33c30d5af1d2bc43/packaging-20.4-py2.py3-none-any.whl\n",
      "Collecting chardet<3.1.0,>=3.0.2 (from requests==2.21.0->ximilar-client)\n",
      "\u001b[?25l  Downloading https://files.pythonhosted.org/packages/bc/a9/01ffebfb562e4274b6487b4bb1ddec7ca55ec7510b22e4c51f14098443b8/chardet-3.0.4-py2.py3-none-any.whl (133kB)\n",
      "\u001b[K     |████████████████████████████████| 143kB 537kB/s eta 0:00:01\n",
      "\u001b[?25hRequirement already satisfied: certifi>=2017.4.17 in /snap/jupyter/6/lib/python3.7/site-packages (from requests==2.21.0->ximilar-client) (2019.3.9)\n",
      "Collecting urllib3<1.25,>=1.21.1 (from requests==2.21.0->ximilar-client)\n",
      "\u001b[?25l  Downloading https://files.pythonhosted.org/packages/01/11/525b02e4acc0c747de8b6ccdab376331597c569c42ea66ab0a1dbd36eca2/urllib3-1.24.3-py2.py3-none-any.whl (118kB)\n",
      "\u001b[K     |████████████████████████████████| 122kB 524kB/s eta 0:00:01\n",
      "\u001b[?25hCollecting idna<2.9,>=2.5 (from requests==2.21.0->ximilar-client)\n",
      "\u001b[?25l  Downloading https://files.pythonhosted.org/packages/14/2c/cd551d81dbe15200be1cf41cd03869a46fe7226e7450af7a6545bfc474c9/idna-2.8-py2.py3-none-any.whl (58kB)\n",
      "\u001b[K     |████████████████████████████████| 61kB 652kB/s eta 0:00:01\n",
      "\u001b[?25hCollecting zipp>=0.5 (from importlib-metadata>=0.12; python_version < \"3.8\"->pytest>=3.0.3->ximilar-client)\n",
      "  Downloading https://files.pythonhosted.org/packages/b2/34/bfcb43cc0ba81f527bc4f40ef41ba2ff4080e047acb0586b56b3d017ace4/zipp-3.1.0-py3-none-any.whl\n",
      "Requirement already satisfied: six in /snap/jupyter/6/lib/python3.7/site-packages (from packaging->pytest>=3.0.3->ximilar-client) (1.12.0)\n",
      "Collecting pyparsing>=2.0.2 (from packaging->pytest>=3.0.3->ximilar-client)\n",
      "\u001b[?25l  Downloading https://files.pythonhosted.org/packages/8a/bb/488841f56197b13700afd5658fc279a2025a39e22449b7cf29864669b15d/pyparsing-2.4.7-py2.py3-none-any.whl (67kB)\n",
      "\u001b[K     |████████████████████████████████| 71kB 524kB/s eta 0:00:01\n",
      "\u001b[?25hInstalling collected packages: numpy, opencv-contrib-python-headless, tqdm, zipp, importlib-metadata, pluggy, py, more-itertools, pyparsing, packaging, pytest, chardet, urllib3, idna, requests, ximilar-client\n",
      "Successfully installed chardet-3.0.4 idna-2.8 importlib-metadata-1.7.0 more-itertools-8.4.0 numpy-1.19.0 opencv-contrib-python-headless-4.1.2.30 packaging-20.4 pluggy-0.13.1 py-1.9.0 pyparsing-2.4.7 pytest-5.4.3 requests-2.21.0 tqdm-4.31.1 urllib3-1.24.3 ximilar-client-1.10.13 zipp-3.1.0\n"
     ]
    }
   ],
   "source": [
    "!pip install ximilar-client"
   ]
  },
  {
   "cell_type": "code",
   "execution_count": 4,
   "metadata": {},
   "outputs": [],
   "source": [
    "from ximilar.client import RecognitionClient\n",
    "\n",
    "client = RecognitionClient(token=\"f563142df5a77daef3553912537d96ef8e392143\")\n",
    "\n",
    "task, status = client.get_task(task_id='3a5ce748-2436-4e57-814c-cf1d953d9c65')\n",
    "\n",
    "# you can send image in _file, _url or _base64 format\n",
    "# the _file format is intenally converted to _base64 as rgb image\n",
    "result = task.classify([{'_file': './test/6.jpg'}])\n",
    "\n",
    "# the result is in json/dictionary format and you can access it in following way:\n",
    "best_label = result['records'][0]['best_label']"
   ]
  },
  {
   "cell_type": "code",
   "execution_count": 5,
   "metadata": {},
   "outputs": [
    {
     "data": {
      "text/plain": [
       "{'prob': 0.78435,\n",
       " 'name': 'kathak',\n",
       " 'id': '1489faf6-cc47-4480-aac2-10d7bfaa0af7'}"
      ]
     },
     "execution_count": 5,
     "metadata": {},
     "output_type": "execute_result"
    }
   ],
   "source": [
    "best_label"
   ]
  },
  {
   "cell_type": "code",
   "execution_count": 10,
   "metadata": {},
   "outputs": [
    {
     "data": {
      "text/plain": [
       "'kathak'"
      ]
     },
     "execution_count": 10,
     "metadata": {},
     "output_type": "execute_result"
    }
   ],
   "source": [
    "result['records'][0]['best_label']['name']"
   ]
  },
  {
   "cell_type": "code",
   "execution_count": 4,
   "metadata": {},
   "outputs": [
    {
     "name": "stdout",
     "output_type": "stream",
     "text": [
      "Collecting pandas\n",
      "\u001b[?25l  Downloading https://files.pythonhosted.org/packages/af/f3/683bf2547a3eaeec15b39cef86f61e921b3b187f250fcd2b5c5fb4386369/pandas-1.0.5-cp37-cp37m-manylinux1_x86_64.whl (10.1MB)\n",
      "\u001b[K     |████████████████████████████████| 10.1MB 1.2MB/s eta 0:00:01    |██████████████████▎             | 5.8MB 645kB/s eta 0:00:07\n",
      "\u001b[?25hRequirement already satisfied: numpy>=1.13.3 in /home/lakshyajit/snap/jupyter/common/lib/python3.7/site-packages (from pandas) (1.19.0)\n",
      "Collecting pytz>=2017.2 (from pandas)\n",
      "\u001b[?25l  Downloading https://files.pythonhosted.org/packages/4f/a4/879454d49688e2fad93e59d7d4efda580b783c745fd2ec2a3adf87b0808d/pytz-2020.1-py2.py3-none-any.whl (510kB)\n",
      "\u001b[K     |████████████████████████████████| 512kB 1.6MB/s eta 0:00:01     |███████████████▍                | 245kB 1.6MB/s eta 0:00:01\n",
      "\u001b[?25hRequirement already satisfied: python-dateutil>=2.6.1 in /snap/jupyter/6/lib/python3.7/site-packages (from pandas) (2.8.0)\n",
      "Requirement already satisfied: six>=1.5 in /snap/jupyter/6/lib/python3.7/site-packages (from python-dateutil>=2.6.1->pandas) (1.12.0)\n",
      "Installing collected packages: pytz, pandas\n",
      "Successfully installed pandas-1.0.5 pytz-2020.1\n"
     ]
    }
   ],
   "source": [
    "!pip install pandas"
   ]
  },
  {
   "cell_type": "code",
   "execution_count": 2,
   "metadata": {},
   "outputs": [],
   "source": [
    "import pandas as pd"
   ]
  },
  {
   "cell_type": "code",
   "execution_count": 3,
   "metadata": {},
   "outputs": [],
   "source": [
    "data = {'Image':[], 'target':[]} \n",
    "df = pd.DataFrame(data) "
   ]
  },
  {
   "cell_type": "code",
   "execution_count": 6,
   "metadata": {},
   "outputs": [],
   "source": [
    "import os"
   ]
  },
  {
   "cell_type": "code",
   "execution_count": 7,
   "metadata": {},
   "outputs": [
    {
     "name": "stdout",
     "output_type": "stream",
     "text": [
      "['520.jpg', '470.jpg', '6.jpg', '239.jpg', '147.jpg', '112.jpg', '13.jpg', '437.jpg', '505.jpg', '146.jpg', '473.jpg', '340.jpg', '438.jpg', '386.jpg', '414.jpg', '206.jpg', '95.jpg', '71.jpg', '9.jpg', '55.jpg', '28.jpg', '193.jpg', '424.jpg', '332.jpg', '119.jpg', '67.jpg', '45.jpg', '291.jpg', '271.jpg', '360.jpg', '23.jpg', '318.jpg', '35.jpg', '20.jpg', '48.jpg', '394.jpg', '270.jpg', '284.jpg', '302.jpg', '390.jpg', '498.jpg', '463.jpg', '495.jpg', '373.jpg', '518.jpg', '517.jpg', '108.jpg', '431.jpg', '306.jpg', '460.jpg', '157.jpg', '290.jpg', '324.jpg', '441.jpg', '194.jpg', '138.jpg', '508.jpg', '278.jpg', '226.jpg', '162.jpg', '457.jpg', '220.jpg', '224.jpg', '170.jpg', '196.jpg', '323.jpg', '316.jpg', '292.jpg', '64.jpg', '440.jpg', '183.jpg', '410.jpg', '346.jpg', '171.jpg', '200.jpg', '479.jpg', '378.jpg', '375.jpg', '97.jpg', '33.jpg', '128.jpg', '129.jpg', '465.jpg', '256.jpg', '11.jpg', '392.jpg', '485.jpg', '358.jpg', '487.jpg', '286.jpg', '421.jpg', '507.jpg', '264.jpg', '283.jpg', '175.jpg', '145.jpg', '411.jpg', '110.jpg', '238.jpg', '92.jpg', '232.jpg', '216.jpg', '461.jpg', '456.jpg', '458.jpg', '34.jpg', '17.jpg', '215.jpg', '40.jpg', '482.jpg', '354.jpg', '114.jpg', '448.jpg', '429.jpg', '152.jpg', '41.jpg', '363.jpg', '514.jpg', '285.jpg', '467.jpg', '125.jpg', '447.jpg', '439.jpg', '374.jpg', '401.jpg', '189.jpg', '80.jpg', '38.jpg', '275.jpg', '366.jpg', '14.jpg', '398.jpg', '132.jpg', '173.jpg', '385.jpg', '280.jpg', '86.jpg', '506.jpg', '349.jpg', '246.jpg', '198.jpg', '330.jpg', '317.jpg', '484.jpg', '217.jpg', '210.jpg', '57.jpg', '510.jpg', '59.jpg', '150.jpg', '269.jpg', '380.jpg', '61.jpg', '202.jpg', '416.jpg', '301.jpg']\n"
     ]
    }
   ],
   "source": [
    "print(os.listdir('./test'))"
   ]
  },
  {
   "cell_type": "code",
   "execution_count": 8,
   "metadata": {},
   "outputs": [],
   "source": [
    "test_files = os.listdir('./test')"
   ]
  },
  {
   "cell_type": "code",
   "execution_count": 9,
   "metadata": {},
   "outputs": [
    {
     "data": {
      "text/html": [
       "<div>\n",
       "<style scoped>\n",
       "    .dataframe tbody tr th:only-of-type {\n",
       "        vertical-align: middle;\n",
       "    }\n",
       "\n",
       "    .dataframe tbody tr th {\n",
       "        vertical-align: top;\n",
       "    }\n",
       "\n",
       "    .dataframe thead th {\n",
       "        text-align: right;\n",
       "    }\n",
       "</style>\n",
       "<table border=\"1\" class=\"dataframe\">\n",
       "  <thead>\n",
       "    <tr style=\"text-align: right;\">\n",
       "      <th></th>\n",
       "      <th>Image</th>\n",
       "      <th>target</th>\n",
       "    </tr>\n",
       "  </thead>\n",
       "  <tbody>\n",
       "  </tbody>\n",
       "</table>\n",
       "</div>"
      ],
      "text/plain": [
       "Empty DataFrame\n",
       "Columns: [Image, target]\n",
       "Index: []"
      ]
     },
     "execution_count": 9,
     "metadata": {},
     "output_type": "execute_result"
    }
   ],
   "source": [
    "df"
   ]
  },
  {
   "cell_type": "code",
   "execution_count": 11,
   "metadata": {},
   "outputs": [],
   "source": [
    "for i in range(len(test_files)):\n",
    "    result = task.classify([{'_file': './test/'+test_files[i]}])\n",
    "    predicted_dance_form = result['records'][0]['best_label']['name']\n",
    "    df.loc[i] = [test_files[i]] + [predicted_dance_form]\n",
    "    "
   ]
  },
  {
   "cell_type": "code",
   "execution_count": 12,
   "metadata": {},
   "outputs": [
    {
     "data": {
      "text/html": [
       "<div>\n",
       "<style scoped>\n",
       "    .dataframe tbody tr th:only-of-type {\n",
       "        vertical-align: middle;\n",
       "    }\n",
       "\n",
       "    .dataframe tbody tr th {\n",
       "        vertical-align: top;\n",
       "    }\n",
       "\n",
       "    .dataframe thead th {\n",
       "        text-align: right;\n",
       "    }\n",
       "</style>\n",
       "<table border=\"1\" class=\"dataframe\">\n",
       "  <thead>\n",
       "    <tr style=\"text-align: right;\">\n",
       "      <th></th>\n",
       "      <th>Image</th>\n",
       "      <th>target</th>\n",
       "    </tr>\n",
       "  </thead>\n",
       "  <tbody>\n",
       "    <tr>\n",
       "      <th>0</th>\n",
       "      <td>520.jpg</td>\n",
       "      <td>odissi</td>\n",
       "    </tr>\n",
       "    <tr>\n",
       "      <th>1</th>\n",
       "      <td>470.jpg</td>\n",
       "      <td>odissi</td>\n",
       "    </tr>\n",
       "    <tr>\n",
       "      <th>2</th>\n",
       "      <td>6.jpg</td>\n",
       "      <td>kathak</td>\n",
       "    </tr>\n",
       "    <tr>\n",
       "      <th>3</th>\n",
       "      <td>239.jpg</td>\n",
       "      <td>kathakali</td>\n",
       "    </tr>\n",
       "    <tr>\n",
       "      <th>4</th>\n",
       "      <td>147.jpg</td>\n",
       "      <td>kuchipudi</td>\n",
       "    </tr>\n",
       "    <tr>\n",
       "      <th>...</th>\n",
       "      <td>...</td>\n",
       "      <td>...</td>\n",
       "    </tr>\n",
       "    <tr>\n",
       "      <th>151</th>\n",
       "      <td>380.jpg</td>\n",
       "      <td>kuchipudi</td>\n",
       "    </tr>\n",
       "    <tr>\n",
       "      <th>152</th>\n",
       "      <td>61.jpg</td>\n",
       "      <td>mohiniyattam</td>\n",
       "    </tr>\n",
       "    <tr>\n",
       "      <th>153</th>\n",
       "      <td>202.jpg</td>\n",
       "      <td>kathakali</td>\n",
       "    </tr>\n",
       "    <tr>\n",
       "      <th>154</th>\n",
       "      <td>416.jpg</td>\n",
       "      <td>kuchipudi</td>\n",
       "    </tr>\n",
       "    <tr>\n",
       "      <th>155</th>\n",
       "      <td>301.jpg</td>\n",
       "      <td>odissi</td>\n",
       "    </tr>\n",
       "  </tbody>\n",
       "</table>\n",
       "<p>156 rows × 2 columns</p>\n",
       "</div>"
      ],
      "text/plain": [
       "       Image        target\n",
       "0    520.jpg        odissi\n",
       "1    470.jpg        odissi\n",
       "2      6.jpg        kathak\n",
       "3    239.jpg     kathakali\n",
       "4    147.jpg     kuchipudi\n",
       "..       ...           ...\n",
       "151  380.jpg     kuchipudi\n",
       "152   61.jpg  mohiniyattam\n",
       "153  202.jpg     kathakali\n",
       "154  416.jpg     kuchipudi\n",
       "155  301.jpg        odissi\n",
       "\n",
       "[156 rows x 2 columns]"
      ]
     },
     "execution_count": 12,
     "metadata": {},
     "output_type": "execute_result"
    }
   ],
   "source": []
  },
  {
   "cell_type": "code",
   "execution_count": 14,
   "metadata": {},
   "outputs": [
    {
     "data": {
      "text/html": [
       "<div>\n",
       "<style scoped>\n",
       "    .dataframe tbody tr th:only-of-type {\n",
       "        vertical-align: middle;\n",
       "    }\n",
       "\n",
       "    .dataframe tbody tr th {\n",
       "        vertical-align: top;\n",
       "    }\n",
       "\n",
       "    .dataframe thead th {\n",
       "        text-align: right;\n",
       "    }\n",
       "</style>\n",
       "<table border=\"1\" class=\"dataframe\">\n",
       "  <thead>\n",
       "    <tr style=\"text-align: right;\">\n",
       "      <th></th>\n",
       "      <th>Image</th>\n",
       "      <th>target</th>\n",
       "    </tr>\n",
       "  </thead>\n",
       "  <tbody>\n",
       "    <tr>\n",
       "      <th>0</th>\n",
       "      <td>520.jpg</td>\n",
       "      <td>odissi</td>\n",
       "    </tr>\n",
       "    <tr>\n",
       "      <th>1</th>\n",
       "      <td>470.jpg</td>\n",
       "      <td>odissi</td>\n",
       "    </tr>\n",
       "    <tr>\n",
       "      <th>2</th>\n",
       "      <td>6.jpg</td>\n",
       "      <td>kathak</td>\n",
       "    </tr>\n",
       "    <tr>\n",
       "      <th>3</th>\n",
       "      <td>239.jpg</td>\n",
       "      <td>kathakali</td>\n",
       "    </tr>\n",
       "    <tr>\n",
       "      <th>4</th>\n",
       "      <td>147.jpg</td>\n",
       "      <td>kuchipudi</td>\n",
       "    </tr>\n",
       "  </tbody>\n",
       "</table>\n",
       "</div>"
      ],
      "text/plain": [
       "     Image     target\n",
       "0  520.jpg     odissi\n",
       "1  470.jpg     odissi\n",
       "2    6.jpg     kathak\n",
       "3  239.jpg  kathakali\n",
       "4  147.jpg  kuchipudi"
      ]
     },
     "execution_count": 14,
     "metadata": {},
     "output_type": "execute_result"
    }
   ],
   "source": [
    "df.head()"
   ]
  },
  {
   "cell_type": "code",
   "execution_count": 15,
   "metadata": {},
   "outputs": [],
   "source": [
    "df.to_csv('predictions.csv', index=False) "
   ]
  },
  {
   "cell_type": "code",
   "execution_count": null,
   "metadata": {},
   "outputs": [],
   "source": []
  }
 ],
 "metadata": {
  "kernelspec": {
   "display_name": "Python 3",
   "language": "python",
   "name": "python3"
  },
  "language_info": {
   "codemirror_mode": {
    "name": "ipython",
    "version": 3
   },
   "file_extension": ".py",
   "mimetype": "text/x-python",
   "name": "python",
   "nbconvert_exporter": "python",
   "pygments_lexer": "ipython3",
   "version": "3.7.3"
  }
 },
 "nbformat": 4,
 "nbformat_minor": 2
}
